{
 "cells": [
  {
   "cell_type": "code",
   "execution_count": 1,
   "id": "815cbb41",
   "metadata": {},
   "outputs": [],
   "source": [
    "import openai\n",
    "import gradio\n",
    "import pandas as pd\n",
    "\n",
    "# Before proceeding know gradios' work. \n",
    "# demo = gradio.Interface(fn=CustomChatGPT, inputs = \"text\", outputs = \"text\", title = \"Real Estate Pro\")\n",
    "\n",
    "# demo.launch(share=True)"
   ]
  },
  {
   "cell_type": "code",
   "execution_count": 2,
   "id": "fb089e4e",
   "metadata": {
    "scrolled": true
   },
   "outputs": [],
   "source": [
    "# Specify the encoding that matches your CSV file's encoding\n",
    "encoding = 'latin1'  # This is a common encoding for handling non-UTF-8 characters\n",
    "\n",
    "Topics=pd.read_csv(\"C:/Users/HP/Music/ChatGPT API/Topics_on_the_academic_arena.csv\", encoding=encoding)\n",
    "\n"
   ]
  },
  {
   "cell_type": "code",
   "execution_count": 3,
   "id": "9a1d13f8",
   "metadata": {},
   "outputs": [
    {
     "name": "stdout",
     "output_type": "stream",
     "text": [
      "Randomly selected item: Molecular engineering\n"
     ]
    }
   ],
   "source": [
    "column_name = 'Topics'  # Replace with the actual column name\n",
    "\n",
    "# Randomly select an item from the specified column\n",
    "random_item = Topics[column_name].sample().values[0]\n",
    "\n",
    "print(\"Randomly selected item:\", random_item)"
   ]
  },
  {
   "cell_type": "code",
   "execution_count": 4,
   "id": "6b6ba495",
   "metadata": {},
   "outputs": [
    {
     "name": "stdout",
     "output_type": "stream",
     "text": [
      "What safety protocols should be in place when working with molecular engineering?\n",
      "Safety Protocols for Working With Molecular Engineering\n",
      "\n",
      "Molecular engineering is a rapidly evolving field of science with the potential to revolutionize human lives, from curing diseases to creating tools and materials with limitless applications. However, each step of the research process calls for the implementation of various safety protocols to ensure the safety of personnel and the environment. This essay will explore the safety protocols that should be in place when working with molecular engineering.\n",
      "\n",
      "The first safety protocol that should be observed when working with molecular engineering is protective clothing. As molecular engineering is a field of study that often involves dealing with hazardous materials, it is essential that personnel wear protective clothing such as lab coats, masks, and goggles to protect them from potential harm. It is also important to ensure that the protective clothing is regularly inspected and replaced as needed, as it can become worn or damaged over time.\n",
      "\n",
      "The second safety protocol is to follow safety procedures and protocols that are established by the government or regulatory bodies. When working with molecular engineering, it is important to comply with the laws and regulations that govern the use of hazardous materials and processes. For example, the US Department of Energy has an extensive list of safety protocols for specific cases of molecular engineering, such as when working with combustible liquids, materials, and materials exposed to radiation.\n",
      "\n",
      "The third safety protocol is to always be aware of the potential risks involved with the processes used in molecular engineering. It is important to identify the potential risks associated with each step of the research process and to have safety protocols in place to address these hazards before they occur. For example, in the case of working with combustible materials, personnel should be made aware of the risks of fires and explosions and have safety protocols in place to evacuate and contain any incidents.\n",
      "\n",
      "The fourth safety protocol is to have all personnel properly trained and certified in using any equipment involved with molecular engineering. Personnel should be trained to understand any safety protocols and procedures associated with the specific equipment being used, such as the safety features of a centrifuge or autoclave. They should also be trained to recognize any signs of danger associated with the equipment and how to respond in a safe manner.\n",
      "\n",
      "The fifth safety protocol is to ensure that all personnel involved with molecular engineering have a valid medical test and physical examination prior to beginning any research activities. This is important to ensure that personnel being exposed to hazardous materials and processes are free of any ailment or illness that may pose a risk to their health. It is also important to maintain proper communication between personnel and the supervisors to inform them of any changes in physical health.\n",
      "\n",
      "In conclusion, when working with molecular engineering, it is essential that safety protocols are observed to ensure the safety of personnel and the environment. These safety protocols include the use of protective clothing, complying with safety regulations, being aware of risks associated with the research process, providing personnel with the proper training and certifications, and having all personnel undergo a valid medical test and physical examination. Ultimately, the observance of these safety protocols will lead to the successful and safe use of molecular engineering for the development of products and materials that can revolutionize human lives.\n",
      "\n",
      "References\n",
      "\n",
      "Adhikari, U. U., Bouwkneg\n"
     ]
    }
   ],
   "source": [
    "\n",
    "# Set your OpenAI API key\n",
    "openai.api_key = \"sk-0cOixdOplWkP7OCknebwT\" #  Replace with openAI key\n",
    "\n",
    "# Assuming you have already obtained the 'Topic' from your CSV dataset\n",
    "\n",
    "# Step 3: Write a Prompt\n",
    "prompt = f\"Generate a list of questions related to the topic: {random_item}.\"\n",
    "\n",
    "# Step 4: Generate List of Questions\n",
    "questions = openai.Completion.create(\n",
    "    engine=\"text-davinci-003\",\n",
    "    prompt=prompt,\n",
    "    max_tokens=100\n",
    ").choices[0].text.strip()\n",
    "\n",
    "# Convert the generated text into a list of questions\n",
    "\n",
    "# Step 5: Select a Random Question\n",
    "import random\n",
    "selected_question = random.choice(question)\n",
    "print(selected_question)\n",
    "\n",
    "# Step 6: Generate Essay Prompt\n",
    "essay_prompt = f\"Write a 800-word essay on the following question and bold the titles for clarity. provide 5 references apa format and list them after the conclusion:\\n\\n{selected_question}\"\n",
    "\n",
    "# Step 7: Generate Essay\n",
    "generated_essay = openai.Completion.create(\n",
    "    engine=\"text-davinci-003\",\n",
    "    prompt=essay_prompt,\n",
    "    max_tokens=650\n",
    ").choices[0].text.strip()\n",
    "\n",
    "\n",
    "print(generated_essay)"
   ]
  },
  {
   "cell_type": "code",
   "execution_count": null,
   "id": "1d44818a",
   "metadata": {},
   "outputs": [],
   "source": []
  },
  {
   "cell_type": "code",
   "execution_count": 5,
   "id": "ddc4af38",
   "metadata": {},
   "outputs": [
    {
     "name": "stdout",
     "output_type": "stream",
     "text": [
      "Post created successfully.\n"
     ]
    }
   ],
   "source": [
    "import requests\n",
    "from authlib.integrations.requests_client import OAuth2Session\n",
    "\n",
    "# Define your OAuth 2.0 client credentials\n",
    "client_id = 'your_client_id'\n",
    "client_secret = 'your_client_secret'\n",
    "\n",
    "# Define the OAuth 2.0 authorization URL, token URL, and redirect URI based on your WordPress setup\n",
    "authorization_base_url = 'https://gradereaper.com/oauth/authorize'\n",
    "token_url = 'https://gradereaper.com/oauth/token'\n",
    "redirect_uri = 'https://gradereaper.com/oauth-callback'\n",
    "\n",
    "# Create an OAuth2Session with your client credentials\n",
    "oauth = OAuth2Session(client_id, client_secret, redirect_uri=redirect_uri)\n",
    "\n",
    "# Define the state parameter (generate a unique value for each request)\n",
    "state = 'your_state_parameter'\n",
    "\n",
    "# Define the requested scopes (comma-separated string)\n",
    "scope = 'your_requested_scopes'\n",
    "\n",
    "# Manually construct the authorization URL with state and scope parameters\n",
    "authorization_url, _ = oauth.authorization_url(\n",
    "    authorization_base_url,\n",
    "    state=state,\n",
    "    scope=scope\n",
    ")\n",
    "\n",
    "print(f'Please go to {authorization_url} and authorize the application.')\n",
    "authorization_response = input('Enter the full callback URL: ')\n",
    "\n",
    "# Fetch the access token using the authorization response\n",
    "token = oauth.fetch_token(token_url, authorization_response=authorization_response)\n"
   ]
  },
  {
   "cell_type": "code",
   "execution_count": null,
   "id": "c6baa57b",
   "metadata": {},
   "outputs": [],
   "source": []
  },
  {
   "cell_type": "code",
   "execution_count": null,
   "id": "a637f09d",
   "metadata": {},
   "outputs": [],
   "source": []
  },
  {
   "cell_type": "code",
   "execution_count": null,
   "id": "d877a44c",
   "metadata": {},
   "outputs": [],
   "source": []
  },
  {
   "cell_type": "code",
   "execution_count": null,
   "id": "e016186a",
   "metadata": {},
   "outputs": [],
   "source": []
  },
  {
   "cell_type": "code",
   "execution_count": null,
   "id": "db0c483a",
   "metadata": {},
   "outputs": [],
   "source": []
  }
 ],
 "metadata": {
  "kernelspec": {
   "display_name": "Python 3 (ipykernel)",
   "language": "python",
   "name": "python3"
  },
  "language_info": {
   "codemirror_mode": {
    "name": "ipython",
    "version": 3
   },
   "file_extension": ".py",
   "mimetype": "text/x-python",
   "name": "python",
   "nbconvert_exporter": "python",
   "pygments_lexer": "ipython3",
   "version": "3.11.4"
  }
 },
 "nbformat": 4,
 "nbformat_minor": 5
}
